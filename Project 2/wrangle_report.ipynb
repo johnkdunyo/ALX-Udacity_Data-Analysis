{
 "cells": [
  {
   "cell_type": "markdown",
   "metadata": {},
   "source": [
    "## Reporting: wragle_report\n",
    "* Create a **300-600 word written report** called \"wrangle_report.pdf\" or \"wrangle_report.html\" that briefly describes your wrangling efforts. This is to be framed as an internal document."
   ]
  },
  {
   "cell_type": "markdown",
   "metadata": {},
   "source": [
    "### Project objectives\n",
    "The objectives of this project are:\n",
    "> 1. Perform data wrangling (i.e. gathering, assessing and cleaning) on the three (3) provided data sources.\n",
    "> 2. Store, analyze, and visualize the wrangled data.\n",
    "> 3. Provide a written report on (1) Data wrangling efforts and (2) Data analyses and visualizations."
   ]
  },
  {
   "cell_type": "markdown",
   "metadata": {},
   "source": [
    "### Step 1. Data Gathering"
   ]
  },
  {
   "cell_type": "markdown",
   "metadata": {},
   "source": [
    "At this stage, the theree(3) of datasets were gathered and represented as dataframes. They are:\n",
    "> 1. The WeRateDogs Twitter archive. This was manually downloaded from the link provided on udacity  <br/><br/>\n",
    "> 2. The tweet image predictions ('image-predictions.tsv'). This file was be downloaded\n",
    "programmatically using the python's requests library from the provided URL.<br/><br/>\n",
    "> 3. Each tweet's entire set of JSON data in a file called 'tweet_json.txt' were stored using Twitter API and\n",
    "Python's Tweepy library. Then, each tweet's JSON data was written to its own line."
   ]
  },
  {
   "cell_type": "code",
   "execution_count": null,
   "metadata": {},
   "outputs": [],
   "source": []
  }
 ],
 "metadata": {
  "kernelspec": {
   "display_name": "Python 3 (ipykernel)",
   "language": "python",
   "name": "python3"
  },
  "language_info": {
   "codemirror_mode": {
    "name": "ipython",
    "version": 3
   },
   "file_extension": ".py",
   "mimetype": "text/x-python",
   "name": "python",
   "nbconvert_exporter": "python",
   "pygments_lexer": "ipython3",
   "version": "3.10.4"
  }
 },
 "nbformat": 4,
 "nbformat_minor": 2
}
